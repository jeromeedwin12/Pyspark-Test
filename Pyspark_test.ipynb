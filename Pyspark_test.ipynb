{
  "nbformat": 4,
  "nbformat_minor": 0,
  "metadata": {
    "colab": {
      "name": "Copy of Pyspark_test.ipynb",
      "provenance": [],
      "collapsed_sections": []
    },
    "kernelspec": {
      "name": "python3",
      "display_name": "Python 3"
    },
    "language_info": {
      "name": "python"
    }
  },
  "cells": [
    {
      "cell_type": "markdown",
      "source": [
        "Given is the boston.csv dataset with the following variable information:\n",
        "# CRIM - Per Capita crime rate\n",
        "# ZN - Proportion of residential land zoned for lots over 25000 sq. ft\n",
        "# INDUS - Proportion of non-retial business acres\n",
        "# CHAS - Charles River dummy variable (1 - if tracts bounds river, 0 -otherwise)\n",
        "# NOX - Nitrogen Oxide concentration\n",
        "# RM - Average number of rooms per dwelling\n",
        "# AGE - Proportion of owner-occupied unit built prior 1940\n",
        "# DIS - Weighted MEan of distances of five Boston Employement Centres\n",
        "# RAD - Index of accessibilities to Radial highways\n",
        "# TAX - Full-value-property-tax rates per $10,000\n",
        "# PT - Pupil-teacher Ratio\n",
        "# B - the proportion of blacks\n",
        "# LSTAT - Lower Status of the Population (%)\n",
        "# MV - Median Value of homes (Target Variable)"
      ],
      "metadata": {
        "id": "RDfGZsZ0gW4R"
      }
    },
    {
      "cell_type": "code",
      "source": [
        "pip install pyspark"
      ],
      "metadata": {
        "colab": {
          "base_uri": "https://localhost:8080/"
        },
        "id": "7GNqRSzlbIKE",
        "outputId": "3135bbb4-8a8e-4d09-c425-52c37ac0a45e"
      },
      "execution_count": null,
      "outputs": [
        {
          "output_type": "stream",
          "name": "stdout",
          "text": [
            "Looking in indexes: https://pypi.org/simple, https://us-python.pkg.dev/colab-wheels/public/simple/\n",
            "Requirement already satisfied: pyspark in /usr/local/lib/python3.7/dist-packages (3.3.0)\n",
            "Requirement already satisfied: py4j==0.10.9.5 in /usr/local/lib/python3.7/dist-packages (from pyspark) (0.10.9.5)\n"
          ]
        }
      ]
    },
    {
      "cell_type": "code",
      "execution_count": null,
      "metadata": {
        "id": "cHRemicxZHMy"
      },
      "outputs": [],
      "source": [
        "import pandas as pd\n",
        "import numpy as np\n",
        "from pyspark.sql import SparkSession"
      ]
    },
    {
      "cell_type": "code",
      "source": [
        "spark=SparkSession.builder.appName('Questions').getOrCreate()"
      ],
      "metadata": {
        "id": "7nbb2Fgyac19"
      },
      "execution_count": null,
      "outputs": []
    },
    {
      "cell_type": "code",
      "source": [
        "spark"
      ],
      "metadata": {
        "colab": {
          "base_uri": "https://localhost:8080/",
          "height": 219
        },
        "id": "uRMfl4dEakvX",
        "outputId": "4c610633-1fb8-4b90-acb5-5dc6ff58ff1b"
      },
      "execution_count": null,
      "outputs": [
        {
          "output_type": "execute_result",
          "data": {
            "text/plain": [
              "<pyspark.sql.session.SparkSession at 0x7f18c2015850>"
            ],
            "text/html": [
              "\n",
              "            <div>\n",
              "                <p><b>SparkSession - in-memory</b></p>\n",
              "                \n",
              "        <div>\n",
              "            <p><b>SparkContext</b></p>\n",
              "\n",
              "            <p><a href=\"http://7f57ea39db2e:4040\">Spark UI</a></p>\n",
              "\n",
              "            <dl>\n",
              "              <dt>Version</dt>\n",
              "                <dd><code>v3.3.0</code></dd>\n",
              "              <dt>Master</dt>\n",
              "                <dd><code>local[*]</code></dd>\n",
              "              <dt>AppName</dt>\n",
              "                <dd><code>Questions</code></dd>\n",
              "            </dl>\n",
              "        </div>\n",
              "        \n",
              "            </div>\n",
              "        "
            ]
          },
          "metadata": {},
          "execution_count": 4
        }
      ]
    },
    {
      "cell_type": "markdown",
      "source": [
        "# Q.1\n",
        "# Read the given CSV file in a Hive table \n",
        "\n",
        "---\n",
        "\n",
        "\n",
        "\n",
        "---\n",
        "\n"
      ],
      "metadata": {
        "id": "pwHDRwChfgPK"
      }
    },
    {
      "cell_type": "markdown",
      "source": [
        "\n",
        "\n",
        "# Perform the following tasks using PySpark\n",
        "# Q2. Read the data from Hive table as spark dataframe"
      ],
      "metadata": {
        "id": "_jtYQ5cbfsU4"
      }
    },
    {
      "cell_type": "code",
      "source": [
        "emp = spark.read.csv('/content/boston.csv',header='true', \n",
        "                      inferSchema='true')\n",
        "emp.show(5)"
      ],
      "metadata": {
        "colab": {
          "base_uri": "https://localhost:8080/"
        },
        "id": "GPa18K05bjG7",
        "outputId": "b2024019-7909-4dcf-8cc6-94770d431556"
      },
      "execution_count": null,
      "outputs": [
        {
          "output_type": "stream",
          "name": "stdout",
          "text": [
            "+-----------+----+-----------+----+-----------+-----------+-----------+-----------+---+---+-----------+-----------+-----------+-----------+\n",
            "|       CRIM|  ZN|      INDUS|CHAS|        NOX|         RM|        AGE|        DIS|RAD|TAX|         PT|          B|      LSTAT|         MV|\n",
            "+-----------+----+-----------+----+-----------+-----------+-----------+-----------+---+---+-----------+-----------+-----------+-----------+\n",
            "|    0.00632|18.0|2.309999943|   0|0.537999988|6.574999809|65.19999695|4.090000153|  1|296|15.30000019|396.8999939|4.980000019|       24.0|\n",
            "|0.027310001| 0.0|7.070000172|   0|0.469000012|6.421000004|78.90000153|4.967100143|  2|242|17.79999924|396.8999939|9.140000343|21.60000038|\n",
            "|    0.02729| 0.0|7.070000172|   0|0.469000012|7.184999943|61.09999847|4.967100143|  2|242|17.79999924|392.8299866| 4.03000021|34.70000076|\n",
            "|0.032370001| 0.0|2.180000067|   0|0.458000004|6.998000145|45.79999924|6.062200069|  3|222|18.70000076|394.6300049|2.940000057|33.40000153|\n",
            "|0.069049999| 0.0|2.180000067|   0|0.458000004|7.146999836|54.20000076|6.062200069|  3|222|18.70000076|396.8999939|5.329999924|36.20000076|\n",
            "+-----------+----+-----------+----+-----------+-----------+-----------+-----------+---+---+-----------+-----------+-----------+-----------+\n",
            "only showing top 5 rows\n",
            "\n"
          ]
        }
      ]
    },
    {
      "cell_type": "markdown",
      "source": [
        "# Q3. Get the correlation between dependent and independent variables"
      ],
      "metadata": {
        "id": "7hLM4i1Vf68l"
      }
    },
    {
      "cell_type": "code",
      "source": [
        "import six\n",
        "for i in emp.columns:\n",
        "    if not( isinstance(emp.select(i).take(1)[0][0], six.string_types)):\n",
        "        print( \"Correlation to MV for \", i, emp.stat.corr('MV',i))"
      ],
      "metadata": {
        "colab": {
          "base_uri": "https://localhost:8080/"
        },
        "id": "SVn9dqrZbqUV",
        "outputId": "af903c2a-846b-4054-f279-f30c82b03014"
      },
      "execution_count": null,
      "outputs": [
        {
          "output_type": "stream",
          "name": "stdout",
          "text": [
            "Correlation to MV for  CRIM -0.3883046116575088\n",
            "Correlation to MV for  ZN 0.36044534463752903\n",
            "Correlation to MV for  INDUS -0.48372517128143383\n",
            "Correlation to MV for  CHAS 0.17526017775291847\n",
            "Correlation to MV for  NOX -0.4273207763683772\n",
            "Correlation to MV for  RM 0.695359937127267\n",
            "Correlation to MV for  AGE -0.37695456714288667\n",
            "Correlation to MV for  DIS 0.24992873873512172\n",
            "Correlation to MV for  RAD -0.3816262315669168\n",
            "Correlation to MV for  TAX -0.46853593528654536\n",
            "Correlation to MV for  PT -0.5077867038116085\n",
            "Correlation to MV for  B 0.3334608226834164\n",
            "Correlation to MV for  LSTAT -0.7376627294671615\n",
            "Correlation to MV for  MV 1.0\n"
          ]
        }
      ]
    },
    {
      "cell_type": "code",
      "source": [
        "from pyspark.ml.feature import VectorAssembler\n",
        "vectorAssembler = VectorAssembler(inputCols = ['CRIM', 'ZN', 'INDUS', 'CHAS', 'NOX', 'RM', 'AGE', 'DIS', 'RAD', 'TAX', 'PT', 'B', 'LSTAT'], outputCol = 'features')\n"
      ],
      "metadata": {
        "id": "U9Xh4UT3cmO-"
      },
      "execution_count": null,
      "outputs": []
    },
    {
      "cell_type": "code",
      "source": [
        "vhouse_df = vectorAssembler.transform(emp)\n"
      ],
      "metadata": {
        "id": "EgmcFO1KddVM"
      },
      "execution_count": null,
      "outputs": []
    },
    {
      "cell_type": "code",
      "source": [
        "vhouse_df =vhouse_df.select(['features', 'MV'])\n",
        "vhouse_df.show(5)"
      ],
      "metadata": {
        "colab": {
          "base_uri": "https://localhost:8080/"
        },
        "id": "PbVn_p2BdBam",
        "outputId": "96a828e0-12ae-4c42-c330-a6805bc44034"
      },
      "execution_count": null,
      "outputs": [
        {
          "output_type": "stream",
          "name": "stdout",
          "text": [
            "+--------------------+-----------+\n",
            "|            features|         MV|\n",
            "+--------------------+-----------+\n",
            "|[0.00632,18.0,2.3...|       24.0|\n",
            "|[0.027310001,0.0,...|21.60000038|\n",
            "|[0.02729,0.0,7.07...|34.70000076|\n",
            "|[0.032370001,0.0,...|33.40000153|\n",
            "|[0.069049999,0.0,...|36.20000076|\n",
            "+--------------------+-----------+\n",
            "only showing top 5 rows\n",
            "\n"
          ]
        }
      ]
    },
    {
      "cell_type": "markdown",
      "source": [
        "# Q4. Build a linear regression model to predict house price"
      ],
      "metadata": {
        "id": "AKRHhXiOgEvk"
      }
    },
    {
      "cell_type": "code",
      "source": [
        "#splitting the data for training and testing\n",
        "\n",
        "splits = vhouse_df.randomSplit([0.7, 0.3])\n",
        "train_df = splits[0]\n",
        "test_df = splits[1]"
      ],
      "metadata": {
        "id": "2guzwKyCdf4p"
      },
      "execution_count": null,
      "outputs": []
    },
    {
      "cell_type": "code",
      "source": [
        "#linear regression model\n",
        "\n",
        "from pyspark.ml.regression import LinearRegression\n",
        "lr = LinearRegression(featuresCol = 'features', labelCol='MV', maxIter=10, regParam=0.3, elasticNetParam=0.8)\n",
        "lr_model = lr.fit(train_df)\n",
        "print(\"Coefficients: \" + str(lr_model.coefficients))\n",
        "print(\"Intercept: \" + str(lr_model.intercept))"
      ],
      "metadata": {
        "colab": {
          "base_uri": "https://localhost:8080/"
        },
        "id": "PmDukHE2e9Ui",
        "outputId": "895fdc86-5296-4b49-a064-8de73fb4442d"
      },
      "execution_count": null,
      "outputs": [
        {
          "output_type": "stream",
          "name": "stdout",
          "text": [
            "Coefficients: [-0.053824402967175985,0.013208516088527572,-0.0024346709286272826,1.4652621136360078,-6.521749786768949,4.145981901490713,0.0,-0.622118616943058,0.0,0.0,-0.7549884405758134,0.00830008172144777,-0.48421657714838023]\n",
            "Intercept: 19.584768309879994\n"
          ]
        }
      ]
    },
    {
      "cell_type": "markdown",
      "source": [
        "# Q5. Evaluate the Linear Regression model by getting the RMSE and R-squared values"
      ],
      "metadata": {
        "id": "0EEFqZyAgN76"
      }
    },
    {
      "cell_type": "code",
      "source": [
        "#accuracy measure for model\n",
        "\n",
        "trainingSummary = lr_model.summary\n",
        "print(\"RMSE: %f\" % trainingSummary.rootMeanSquaredError)\n",
        "print(\"r2: %f\" % trainingSummary.r2)"
      ],
      "metadata": {
        "colab": {
          "base_uri": "https://localhost:8080/"
        },
        "id": "FLFGbIG8e_sF",
        "outputId": "0d29312f-5bd4-41ea-8946-919ecde678c5"
      },
      "execution_count": null,
      "outputs": [
        {
          "output_type": "stream",
          "name": "stdout",
          "text": [
            "RMSE: 4.918640\n",
            "r2: 0.711394\n"
          ]
        }
      ]
    },
    {
      "cell_type": "code",
      "source": [
        "train_df.describe().show()"
      ],
      "metadata": {
        "colab": {
          "base_uri": "https://localhost:8080/"
        },
        "id": "q-SnkVLhfGoF",
        "outputId": "ba59a8fb-b14a-4707-8318-635b48c1d549"
      },
      "execution_count": null,
      "outputs": [
        {
          "output_type": "stream",
          "name": "stdout",
          "text": [
            "+-------+-----------------+\n",
            "|summary|               MV|\n",
            "+-------+-----------------+\n",
            "|  count|              364|\n",
            "|   mean|22.42857144432143|\n",
            "| stddev|9.168319343339927|\n",
            "|    min|              5.0|\n",
            "|    max|             50.0|\n",
            "+-------+-----------------+\n",
            "\n"
          ]
        }
      ]
    },
    {
      "cell_type": "code",
      "source": [
        "#evaluating\n",
        "\n",
        "lr_predictions = lr_model.transform(test_df)\n",
        "lr_predictions.select(\"prediction\",\"MV\",\"features\").show(5)\n",
        "from pyspark.ml.evaluation import RegressionEvaluator\n",
        "lr_evaluator = RegressionEvaluator(predictionCol=\"prediction\", \\\n",
        "                 labelCol=\"MV\",metricName=\"r2\")\n",
        "print(\"R Squared (R2) on test data = %g\" % lr_evaluator.evaluate(lr_predictions))"
      ],
      "metadata": {
        "colab": {
          "base_uri": "https://localhost:8080/"
        },
        "id": "BV97MLAEfJ3i",
        "outputId": "4b716aca-fc42-4090-f6e3-14c36e1aad8e"
      },
      "execution_count": null,
      "outputs": [
        {
          "output_type": "stream",
          "name": "stdout",
          "text": [
            "+------------------+-----------+--------------------+\n",
            "|        prediction|         MV|            features|\n",
            "+------------------+-----------+--------------------+\n",
            "| 31.71840352783358|32.70000076|[0.01301,35.0,1.5...|\n",
            "|37.985225568826365|       50.0|[0.01381,80.0,0.4...|\n",
            "|40.292147941197044|       50.0|[0.01501,90.0,1.2...|\n",
            "|31.227189596737396|32.90000153|[0.01778,95.0,1.4...|\n",
            "| 26.26708992378174|23.10000038|[0.0187,85.0,4.15...|\n",
            "+------------------+-----------+--------------------+\n",
            "only showing top 5 rows\n",
            "\n",
            "R Squared (R2) on test data = 0.714176\n"
          ]
        }
      ]
    },
    {
      "cell_type": "code",
      "source": [
        "test_result = lr_model.evaluate(test_df)\n",
        "print(\"Root Mean Squared Error (RMSE) on test data = %g\" % test_result.rootMeanSquaredError)"
      ],
      "metadata": {
        "colab": {
          "base_uri": "https://localhost:8080/"
        },
        "id": "2LGQGt7BfLrm",
        "outputId": "768734e9-a2cd-4025-ae48-4a433a9d2935"
      },
      "execution_count": null,
      "outputs": [
        {
          "output_type": "stream",
          "name": "stdout",
          "text": [
            "Root Mean Squared Error (RMSE) on test data = 4.95326\n"
          ]
        }
      ]
    },
    {
      "cell_type": "code",
      "source": [
        "print(\"numIterations: %d\" % trainingSummary.totalIterations)\n",
        "print(\"objectiveHistory: %s\" % str(trainingSummary.objectiveHistory))\n",
        "trainingSummary.residuals.show()"
      ],
      "metadata": {
        "colab": {
          "base_uri": "https://localhost:8080/"
        },
        "id": "3QCF_nGnfQFo",
        "outputId": "7eb8e309-77b9-44c5-d221-bcb4ba52dfef"
      },
      "execution_count": null,
      "outputs": [
        {
          "output_type": "stream",
          "name": "stdout",
          "text": [
            "numIterations: 10\n",
            "objectiveHistory: [0.5, 0.42996112792008406, 0.23644653973608518, 0.21603069807285244, 0.18507019330055458, 0.18250030869343067, 0.182053501174409, 0.18140479419321673, 0.18045916491675626, 0.18022882424344305, 0.18016206507216415]\n",
            "+-------------------+\n",
            "|          residuals|\n",
            "+-------------------+\n",
            "| -6.354801541412655|\n",
            "| 1.2783881301975057|\n",
            "| -5.716004953995466|\n",
            "|  5.171624702499564|\n",
            "| 0.9535201298288847|\n",
            "|0.35068362099526595|\n",
            "|-1.3928372038384502|\n",
            "|-3.1259933372025444|\n",
            "|  9.147225089622744|\n",
            "|  3.478904217861359|\n",
            "|  6.863679663320376|\n",
            "|-1.0337370052690602|\n",
            "| 11.008188739560268|\n",
            "|  6.010486577234467|\n",
            "|  -9.96043276305442|\n",
            "|-3.9694180823404714|\n",
            "| 1.6662880037378685|\n",
            "|-1.9022149807708608|\n",
            "| 0.4796073552686373|\n",
            "|  2.591677359414728|\n",
            "+-------------------+\n",
            "only showing top 20 rows\n",
            "\n"
          ]
        }
      ]
    },
    {
      "cell_type": "code",
      "source": [
        "predictions = lr_model.transform(test_df)\n",
        "predictions.select(\"prediction\",\"MV\",\"features\").show()"
      ],
      "metadata": {
        "colab": {
          "base_uri": "https://localhost:8080/"
        },
        "id": "Bv-JnEUZfRwe",
        "outputId": "e91aa5cc-05a8-43ad-fc5e-f6eaaddaa639"
      },
      "execution_count": null,
      "outputs": [
        {
          "output_type": "stream",
          "name": "stdout",
          "text": [
            "+------------------+-----------+--------------------+\n",
            "|        prediction|         MV|            features|\n",
            "+------------------+-----------+--------------------+\n",
            "| 31.71840352783358|32.70000076|[0.01301,35.0,1.5...|\n",
            "|37.985225568826365|       50.0|[0.01381,80.0,0.4...|\n",
            "|40.292147941197044|       50.0|[0.01501,90.0,1.2...|\n",
            "|31.227189596737396|32.90000153|[0.01778,95.0,1.4...|\n",
            "| 26.26708992378174|23.10000038|[0.0187,85.0,4.15...|\n",
            "|26.217765298964704|24.70000076|[0.02055,85.0,0.7...|\n",
            "|31.128669239182543|31.10000038|[0.02187,60.0,2.9...|\n",
            "|31.076474259855726|34.70000076|[0.02729,0.0,7.07...|\n",
            "|25.468377883047694|21.60000038|[0.027310001,0.0,...|\n",
            "| 20.54657716980188|       17.5|[0.031129999,0.0,...|\n",
            "| 29.56651154135823|33.40000153|[0.032370001,0.0,...|\n",
            "|22.254941274448804|20.60000038|[0.033059999,0.0,...|\n",
            "|20.588202376713625|       19.5|[0.03427,0.0,5.19...|\n",
            "| 28.18026971827286|24.10000038|[0.034449998,82.5...|\n",
            "|  24.5036713202785|19.39999962|[0.03466,35.0,6.0...|\n",
            "|27.628127424477256|       22.0|[0.03537,34.0,6.0...|\n",
            "|23.119033854853782|20.89999962|[0.03548,80.0,3.6...|\n",
            "|23.067496992779407|20.70000076|[0.037379999,0.0,...|\n",
            "|26.116294058256805|23.20000076|[0.038710002,52.5...|\n",
            "|21.681986635216923|21.10000038|[0.039609998,0.0,...|\n",
            "+------------------+-----------+--------------------+\n",
            "only showing top 20 rows\n",
            "\n"
          ]
        }
      ]
    },
    {
      "cell_type": "code",
      "source": [
        ""
      ],
      "metadata": {
        "id": "Bw2dZQtCfXa9"
      },
      "execution_count": null,
      "outputs": []
    }
  ]
}